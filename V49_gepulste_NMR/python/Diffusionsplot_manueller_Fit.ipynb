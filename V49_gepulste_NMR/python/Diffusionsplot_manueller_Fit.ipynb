{
 "cells": [
  {
   "cell_type": "code",
   "execution_count": 1,
   "metadata": {},
   "outputs": [],
   "source": [
    "import numpy as np\n",
    "import matplotlib as mpl\n",
    "import matplotlib.pyplot as plt"
   ]
  },
  {
   "cell_type": "code",
   "execution_count": 2,
   "metadata": {},
   "outputs": [],
   "source": [
    "tau, A3 = np.genfromtxt('../data/Diffusion.csv',delimiter=',',skip_header=2,unpack=True)\n",
    "\n",
    "tau = tau * 10**-3\n",
    "A3 = A3 * 10**-3\n",
    "T2 = 1.696\n",
    "\n"
   ]
  },
  {
   "cell_type": "code",
   "execution_count": 3,
   "metadata": {},
   "outputs": [
    {
     "data": {
      "text/plain": [
       "array([1.294, 1.293, 1.275, 1.273, 1.27 , 1.27 , 1.265, 1.263, 1.258,\n",
       "       1.258, 1.26 , 1.213, 1.103, 0.925, 0.698, 0.639, 0.571, 0.461,\n",
       "       0.356, 0.257, 0.194, 0.127, 0.093, 0.065, 0.05 , 0.046])"
      ]
     },
     "execution_count": 3,
     "metadata": {},
     "output_type": "execute_result"
    }
   ],
   "source": [
    "A3"
   ]
  },
  {
   "cell_type": "code",
   "execution_count": 4,
   "metadata": {},
   "outputs": [],
   "source": [
    "def fit(tau, a, b, c):\n",
    "    return (a * np.exp(-2*tau/T2 ) * np.exp((- (tau)**3 )* 2 * b) + c )"
   ]
  },
  {
   "cell_type": "code",
   "execution_count": 5,
   "metadata": {},
   "outputs": [],
   "source": [
    "a = 1.25\n",
    "b = 280000\n",
    "c = 0\n",
    "def plot(a = a, b = b, c = c):\n",
    "    params = [a,b,c]\n",
    "    tau_lin = np.linspace(0,0.021,1000)\n",
    "    funktion = fit(tau_lin, *params)\n",
    "    plt.plot(tau, A3, \"ro\")\n",
    "    plt.plot(tau_lin, funktion)"
   ]
  },
  {
   "cell_type": "code",
   "execution_count": 6,
   "metadata": {},
   "outputs": [],
   "source": [
    "\n",
    "p0 = np.array([a,b,c])\n",
    "lower_bounds = p0 - 100\n",
    "upper_bounds = p0 + 100\n",
    "steps = p0 - p0 + 0.5\n",
    "param_names = ['a','b','c']\n",
    "interactive_params = {name : (lower,upper,step) for lower,upper,step,name in zip(lower_bounds,upper_bounds,steps,param_names)}"
   ]
  },
  {
   "cell_type": "code",
   "execution_count": 7,
   "metadata": {},
   "outputs": [],
   "source": [
    "interactive_params = {'a': (a-0.2, a+0.2, 0.02), 'b': (b - 10000, b + 10000, 1000), 'c': (c-0.1, c+0.1, 0.01)}"
   ]
  },
  {
   "cell_type": "code",
   "execution_count": 8,
   "metadata": {},
   "outputs": [
    {
     "data": {
      "text/plain": [
       "{'a': (1.05, 1.45, 0.02), 'b': (270000, 290000, 1000), 'c': (-0.1, 0.1, 0.01)}"
      ]
     },
     "execution_count": 8,
     "metadata": {},
     "output_type": "execute_result"
    }
   ],
   "source": [
    "interactive_params"
   ]
  },
  {
   "cell_type": "code",
   "execution_count": 9,
   "metadata": {},
   "outputs": [],
   "source": [
    "from ipywidgets import interact"
   ]
  },
  {
   "cell_type": "code",
   "execution_count": 10,
   "metadata": {},
   "outputs": [
    {
     "data": {
      "application/vnd.jupyter.widget-view+json": {
       "model_id": "314f56ab6de24d7b843eec18412cce1e",
       "version_major": 2,
       "version_minor": 0
      },
      "text/plain": [
       "interactive(children=(FloatSlider(value=1.25, description='a', max=1.45, min=1.05, step=0.02), IntSlider(value…"
      ]
     },
     "metadata": {},
     "output_type": "display_data"
    },
    {
     "data": {
      "text/plain": [
       "<function __main__.plot(a=1.25, b=280000, c=0)>"
      ]
     },
     "execution_count": 10,
     "metadata": {},
     "output_type": "execute_result"
    }
   ],
   "source": [
    "interact(plot,**interactive_params)"
   ]
  }
 ],
 "metadata": {
  "kernelspec": {
   "display_name": "Python 3",
   "language": "python",
   "name": "python3"
  },
  "language_info": {
   "codemirror_mode": {
    "name": "ipython",
    "version": 3
   },
   "file_extension": ".py",
   "mimetype": "text/x-python",
   "name": "python",
   "nbconvert_exporter": "python",
   "pygments_lexer": "ipython3",
   "version": "3.8.5"
  }
 },
 "nbformat": 4,
 "nbformat_minor": 4
}
